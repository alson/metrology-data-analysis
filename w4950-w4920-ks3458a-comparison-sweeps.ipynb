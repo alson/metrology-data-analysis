{
 "cells": [
  {
   "cell_type": "code",
   "execution_count": 1,
   "id": "07fc3691",
   "metadata": {},
   "outputs": [],
   "source": [
    "import matplotlib.pyplot as plt\n",
    "import matplotlib.dates as mdates\n",
    "import pandas as pd\n",
    "import numpy as np\n",
    "from datetime import datetime, timedelta\n",
    "import matplotlib.pyplot as plt\n",
    "import matplotlib.ticker as ticker\n",
    "import scipy.stats as st\n",
    "from IPython.display import display, Markdown\n",
    "from scipy.optimize import fsolve\n",
    "from sklearn.linear_model import LinearRegression\n",
    "\n",
    "from common_plotting import read_data, plot, years, months, yearsFmt, add_thp\n",
    "from common_analysis import add_dut_and_setting_group\n",
    "from common_analysis_resistance import (analyse_grouped_ohms, interpolate_temp, PT385_eq, Trh, Rt, Rs23)\n",
    "\n",
    "plt.rcParams[\"figure.figsize\"] = (20,10)\n",
    "orig_max_rows = pd.options.display.max_rows\n",
    "pd.options.display.max_rows = 100"
   ]
  },
  {
   "cell_type": "code",
   "execution_count": 2,
   "id": "3bf0c836",
   "metadata": {},
   "outputs": [
    {
     "ename": "ValueError",
     "evalue": "Merge keys contain null values on left side",
     "output_type": "error",
     "traceback": [
      "\u001b[0;31m---------------------------------------------------------------------------\u001b[0m",
      "\u001b[0;31mValueError\u001b[0m                                Traceback (most recent call last)",
      "\u001b[1;32m/home/alson/code/metrology-data-analysis/w4950-w4920-ks3458a-comparison-sweeps.ipynb Cell 2\u001b[0m line \u001b[0;36m1\n\u001b[0;32m----> <a href='vscode-notebook-cell://wsl%2Bubuntu/home/alson/code/metrology-data-analysis/w4950-w4920-ks3458a-comparison-sweeps.ipynb#W1sdnNjb2RlLXJlbW90ZQ%3D%3D?line=0'>1</a>\u001b[0m thp_data, data \u001b[39m=\u001b[39m read_data([\u001b[39m'\u001b[39;49m\u001b[39mks3458a1-v2703-acv-sweep.csv\u001b[39;49m\u001b[39m'\u001b[39;49m, \u001b[39m'\u001b[39;49m\u001b[39mw4920-v2703-acv-sweep.csv\u001b[39;49m\u001b[39m'\u001b[39;49m, \u001b[39m'\u001b[39;49m\u001b[39mw4950-v2703-acv-sweep.csv\u001b[39;49m\u001b[39m'\u001b[39;49m], \u001b[39m'\u001b[39;49m\u001b[39mthp_log_2023.csv\u001b[39;49m\u001b[39m'\u001b[39;49m)\n\u001b[1;32m      <a href='vscode-notebook-cell://wsl%2Bubuntu/home/alson/code/metrology-data-analysis/w4950-w4920-ks3458a-comparison-sweeps.ipynb#W1sdnNjb2RlLXJlbW90ZQ%3D%3D?line=1'>2</a>\u001b[0m ks3458a1_data \u001b[39m=\u001b[39m data[\u001b[39m'\u001b[39m\u001b[39mks3458a1-v2703-acv-sweep.csv\u001b[39m\u001b[39m'\u001b[39m]\n\u001b[1;32m      <a href='vscode-notebook-cell://wsl%2Bubuntu/home/alson/code/metrology-data-analysis/w4950-w4920-ks3458a-comparison-sweeps.ipynb#W1sdnNjb2RlLXJlbW90ZQ%3D%3D?line=2'>3</a>\u001b[0m w4920_data \u001b[39m=\u001b[39m data[\u001b[39m'\u001b[39m\u001b[39mw4920-v2703-acv-sweep.csv\u001b[39m\u001b[39m'\u001b[39m]\n",
      "File \u001b[0;32m~/code/metrology-data-analysis/common_plotting.py:28\u001b[0m, in \u001b[0;36mread_data\u001b[0;34m(filenames, thp_file_name)\u001b[0m\n\u001b[1;32m     26\u001b[0m \u001b[39mdef\u001b[39;00m \u001b[39mread_data\u001b[39m(filenames, thp_file_name\u001b[39m=\u001b[39m\u001b[39m'\u001b[39m\u001b[39mthp_log.csv\u001b[39m\u001b[39m'\u001b[39m):\n\u001b[1;32m     27\u001b[0m     thp_sorted \u001b[39m=\u001b[39m read_thp(thp_file_name)\n\u001b[0;32m---> 28\u001b[0m     data_dict \u001b[39m=\u001b[39m {filename: add_thp(thp_sorted, pd\u001b[39m.\u001b[39mread_csv(find_file(filename), parse_dates\u001b[39m=\u001b[39m[\u001b[39m'\u001b[39m\u001b[39mdatetime\u001b[39m\u001b[39m'\u001b[39m], date_format\u001b[39m=\u001b[39m\u001b[39m'\u001b[39m\u001b[39mISO8601\u001b[39m\u001b[39m'\u001b[39m, low_memory\u001b[39m=\u001b[39m\u001b[39mTrue\u001b[39;00m))\n\u001b[1;32m     29\u001b[0m                  \u001b[39mfor\u001b[39;00m filename \u001b[39min\u001b[39;00m filenames}\n\u001b[1;32m     30\u001b[0m     \u001b[39mreturn\u001b[39;00m thp_sorted, data_dict\n",
      "File \u001b[0;32m~/code/metrology-data-analysis/common_plotting.py:28\u001b[0m, in \u001b[0;36m<dictcomp>\u001b[0;34m(.0)\u001b[0m\n\u001b[1;32m     26\u001b[0m \u001b[39mdef\u001b[39;00m \u001b[39mread_data\u001b[39m(filenames, thp_file_name\u001b[39m=\u001b[39m\u001b[39m'\u001b[39m\u001b[39mthp_log.csv\u001b[39m\u001b[39m'\u001b[39m):\n\u001b[1;32m     27\u001b[0m     thp_sorted \u001b[39m=\u001b[39m read_thp(thp_file_name)\n\u001b[0;32m---> 28\u001b[0m     data_dict \u001b[39m=\u001b[39m {filename: add_thp(thp_sorted, pd\u001b[39m.\u001b[39;49mread_csv(find_file(filename), parse_dates\u001b[39m=\u001b[39;49m[\u001b[39m'\u001b[39;49m\u001b[39mdatetime\u001b[39;49m\u001b[39m'\u001b[39;49m], date_format\u001b[39m=\u001b[39;49m\u001b[39m'\u001b[39;49m\u001b[39mISO8601\u001b[39;49m\u001b[39m'\u001b[39;49m, low_memory\u001b[39m=\u001b[39;49m\u001b[39mTrue\u001b[39;49;00m))\n\u001b[1;32m     29\u001b[0m                  \u001b[39mfor\u001b[39;00m filename \u001b[39min\u001b[39;00m filenames}\n\u001b[1;32m     30\u001b[0m     \u001b[39mreturn\u001b[39;00m thp_sorted, data_dict\n",
      "File \u001b[0;32m~/code/metrology-data-analysis/common_plotting.py:22\u001b[0m, in \u001b[0;36madd_thp\u001b[0;34m(thp, data)\u001b[0m\n\u001b[1;32m     21\u001b[0m \u001b[39mdef\u001b[39;00m \u001b[39madd_thp\u001b[39m(thp, data):\n\u001b[0;32m---> 22\u001b[0m     \u001b[39mreturn\u001b[39;00m pd\u001b[39m.\u001b[39;49mmerge_asof(data\u001b[39m.\u001b[39;49mset_index(\u001b[39m'\u001b[39;49m\u001b[39mdatetime\u001b[39;49m\u001b[39m'\u001b[39;49m)\u001b[39m.\u001b[39;49msort_values(\u001b[39m'\u001b[39;49m\u001b[39mdatetime\u001b[39;49m\u001b[39m'\u001b[39;49m), thp, left_index\u001b[39m=\u001b[39;49m\u001b[39mTrue\u001b[39;49;00m, right_index\u001b[39m=\u001b[39;49m\u001b[39mTrue\u001b[39;49;00m,\n\u001b[1;32m     23\u001b[0m                          direction\u001b[39m=\u001b[39;49m\u001b[39m'\u001b[39;49m\u001b[39mnearest\u001b[39;49m\u001b[39m'\u001b[39;49m)\n",
      "File \u001b[0;32m~/code/metrology-data-analysis/.venv/lib/python3.10/site-packages/pandas/core/reshape/merge.py:633\u001b[0m, in \u001b[0;36mmerge_asof\u001b[0;34m(left, right, on, left_on, right_on, left_index, right_index, by, left_by, right_by, suffixes, tolerance, allow_exact_matches, direction)\u001b[0m\n\u001b[1;32m    377\u001b[0m \u001b[39m\u001b[39m\u001b[39m\"\"\"\u001b[39;00m\n\u001b[1;32m    378\u001b[0m \u001b[39mPerform a merge by key distance.\u001b[39;00m\n\u001b[1;32m    379\u001b[0m \n\u001b[0;32m   (...)\u001b[0m\n\u001b[1;32m    614\u001b[0m \u001b[39m4 2016-05-25 13:30:00.048   AAPL   98.00       100     NaN     NaN\u001b[39;00m\n\u001b[1;32m    615\u001b[0m \u001b[39m\"\"\"\u001b[39;00m\n\u001b[1;32m    616\u001b[0m op \u001b[39m=\u001b[39m _AsOfMerge(\n\u001b[1;32m    617\u001b[0m     left,\n\u001b[1;32m    618\u001b[0m     right,\n\u001b[0;32m   (...)\u001b[0m\n\u001b[1;32m    631\u001b[0m     direction\u001b[39m=\u001b[39mdirection,\n\u001b[1;32m    632\u001b[0m )\n\u001b[0;32m--> 633\u001b[0m \u001b[39mreturn\u001b[39;00m op\u001b[39m.\u001b[39;49mget_result()\n",
      "File \u001b[0;32m~/code/metrology-data-analysis/.venv/lib/python3.10/site-packages/pandas/core/reshape/merge.py:1816\u001b[0m, in \u001b[0;36m_OrderedMerge.get_result\u001b[0;34m(self, copy)\u001b[0m\n\u001b[1;32m   1815\u001b[0m \u001b[39mdef\u001b[39;00m \u001b[39mget_result\u001b[39m(\u001b[39mself\u001b[39m, copy: \u001b[39mbool\u001b[39m \u001b[39m|\u001b[39m \u001b[39mNone\u001b[39;00m \u001b[39m=\u001b[39m \u001b[39mTrue\u001b[39;00m) \u001b[39m-\u001b[39m\u001b[39m>\u001b[39m DataFrame:\n\u001b[0;32m-> 1816\u001b[0m     join_index, left_indexer, right_indexer \u001b[39m=\u001b[39m \u001b[39mself\u001b[39;49m\u001b[39m.\u001b[39;49m_get_join_info()\n\u001b[1;32m   1818\u001b[0m     llabels, rlabels \u001b[39m=\u001b[39m _items_overlap_with_suffix(\n\u001b[1;32m   1819\u001b[0m         \u001b[39mself\u001b[39m\u001b[39m.\u001b[39mleft\u001b[39m.\u001b[39m_info_axis, \u001b[39mself\u001b[39m\u001b[39m.\u001b[39mright\u001b[39m.\u001b[39m_info_axis, \u001b[39mself\u001b[39m\u001b[39m.\u001b[39msuffixes\n\u001b[1;32m   1820\u001b[0m     )\n\u001b[1;32m   1822\u001b[0m     left_join_indexer: np\u001b[39m.\u001b[39mndarray \u001b[39m|\u001b[39m \u001b[39mNone\u001b[39;00m\n",
      "File \u001b[0;32m~/code/metrology-data-analysis/.venv/lib/python3.10/site-packages/pandas/core/reshape/merge.py:1065\u001b[0m, in \u001b[0;36m_MergeOperation._get_join_info\u001b[0;34m(self)\u001b[0m\n\u001b[1;32m   1061\u001b[0m     join_index, right_indexer, left_indexer \u001b[39m=\u001b[39m _left_join_on_index(\n\u001b[1;32m   1062\u001b[0m         right_ax, left_ax, \u001b[39mself\u001b[39m\u001b[39m.\u001b[39mright_join_keys, sort\u001b[39m=\u001b[39m\u001b[39mself\u001b[39m\u001b[39m.\u001b[39msort\n\u001b[1;32m   1063\u001b[0m     )\n\u001b[1;32m   1064\u001b[0m \u001b[39melse\u001b[39;00m:\n\u001b[0;32m-> 1065\u001b[0m     (left_indexer, right_indexer) \u001b[39m=\u001b[39m \u001b[39mself\u001b[39;49m\u001b[39m.\u001b[39;49m_get_join_indexers()\n\u001b[1;32m   1067\u001b[0m     \u001b[39mif\u001b[39;00m \u001b[39mself\u001b[39m\u001b[39m.\u001b[39mright_index:\n\u001b[1;32m   1068\u001b[0m         \u001b[39mif\u001b[39;00m \u001b[39mlen\u001b[39m(\u001b[39mself\u001b[39m\u001b[39m.\u001b[39mleft) \u001b[39m>\u001b[39m \u001b[39m0\u001b[39m:\n",
      "File \u001b[0;32m~/code/metrology-data-analysis/.venv/lib/python3.10/site-packages/pandas/core/reshape/merge.py:2109\u001b[0m, in \u001b[0;36m_AsOfMerge._get_join_indexers\u001b[0;34m(self)\u001b[0m\n\u001b[1;32m   2107\u001b[0m     side \u001b[39m=\u001b[39m \u001b[39m\"\u001b[39m\u001b[39mleft\u001b[39m\u001b[39m\"\u001b[39m\n\u001b[1;32m   2108\u001b[0m     \u001b[39mif\u001b[39;00m isna(left_values)\u001b[39m.\u001b[39many():\n\u001b[0;32m-> 2109\u001b[0m         \u001b[39mraise\u001b[39;00m \u001b[39mValueError\u001b[39;00m(\u001b[39mf\u001b[39m\u001b[39m\"\u001b[39m\u001b[39mMerge keys contain null values on \u001b[39m\u001b[39m{\u001b[39;00mside\u001b[39m}\u001b[39;00m\u001b[39m side\u001b[39m\u001b[39m\"\u001b[39m)\n\u001b[1;32m   2110\u001b[0m     \u001b[39mraise\u001b[39;00m \u001b[39mValueError\u001b[39;00m(\u001b[39mf\u001b[39m\u001b[39m\"\u001b[39m\u001b[39m{\u001b[39;00mside\u001b[39m}\u001b[39;00m\u001b[39m keys must be sorted\u001b[39m\u001b[39m\"\u001b[39m)\n\u001b[1;32m   2112\u001b[0m \u001b[39mif\u001b[39;00m \u001b[39mnot\u001b[39;00m Index(right_values)\u001b[39m.\u001b[39mis_monotonic_increasing:\n",
      "\u001b[0;31mValueError\u001b[0m: Merge keys contain null values on left side"
     ]
    }
   ],
   "source": [
    "thp_data, data = read_data(['ks3458a1-v2703-acv-sweep.csv', 'w4920-v2703-acv-sweep.csv', 'w4950-v2703-acv-sweep.csv'], 'thp_log_2023.csv')\n",
    "ks3458a1_data = data['ks3458a1-v2703-acv-sweep.csv']\n",
    "w4920_data = data['w4920-v2703-acv-sweep.csv']\n",
    "w4950_data = data['w4950-v2703-acv-sweep.csv']"
   ]
  },
  {
   "cell_type": "code",
   "execution_count": null,
   "id": "f6a7b5ae",
   "metadata": {},
   "outputs": [],
   "source": [
    "ks3458a1_data"
   ]
  },
  {
   "cell_type": "code",
   "execution_count": null,
   "id": "754a305d",
   "metadata": {},
   "outputs": [],
   "source": [
    "ks3458a_times = ks3458a1_data.index.to_series().diff().dt.total_seconds()\n",
    "ks3458a_times = ks3458a_times[ks3458a_times < 15]\n",
    "print(ks3458a_times.describe())\n",
    "ks3458a_times.hist(bins=1000)"
   ]
  },
  {
   "cell_type": "code",
   "execution_count": null,
   "id": "194d9fe3",
   "metadata": {},
   "outputs": [],
   "source": [
    "w4920_times = w4920_data.index.to_series().diff().dt.total_seconds()\n",
    "w4920_times = w4920_times[w4920_times < 60]\n",
    "print(w4920_times.describe())\n",
    "w4920_times.hist(bins=100)"
   ]
  },
  {
   "cell_type": "code",
   "execution_count": null,
   "id": "9ecc085c",
   "metadata": {},
   "outputs": [],
   "source": [
    "w4950_times = w4950_data.index.to_series().diff().dt.total_seconds()\n",
    "w4950_times = w4950_times[w4950_times < 60]\n",
    "print(w4950_times.describe())\n",
    "w4950_times.hist(bins=100)"
   ]
  },
  {
   "cell_type": "code",
   "execution_count": null,
   "id": "898f5edc",
   "metadata": {},
   "outputs": [],
   "source": []
  }
 ],
 "metadata": {
  "kernelspec": {
   "display_name": "Python 3 (ipykernel)",
   "language": "python",
   "name": "python3"
  },
  "language_info": {
   "codemirror_mode": {
    "name": "ipython",
    "version": 3
   },
   "file_extension": ".py",
   "mimetype": "text/x-python",
   "name": "python",
   "nbconvert_exporter": "python",
   "pygments_lexer": "ipython3",
   "version": "3.10.6"
  },
  "toc": {
   "base_numbering": 1,
   "nav_menu": {},
   "number_sections": true,
   "sideBar": true,
   "skip_h1_title": false,
   "title_cell": "Table of Contents",
   "title_sidebar": "Contents",
   "toc_cell": false,
   "toc_position": {},
   "toc_section_display": true,
   "toc_window_display": false
  }
 },
 "nbformat": 4,
 "nbformat_minor": 5
}
