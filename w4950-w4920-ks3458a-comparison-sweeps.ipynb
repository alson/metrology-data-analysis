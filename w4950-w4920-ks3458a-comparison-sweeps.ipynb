{
 "cells": [
  {
   "cell_type": "code",
   "execution_count": 1,
   "id": "07fc3691",
   "metadata": {},
   "outputs": [],
   "source": [
    "import matplotlib.pyplot as plt\n",
    "import matplotlib.dates as mdates\n",
    "import pandas as pd\n",
    "import numpy as np\n",
    "from datetime import datetime, timedelta\n",
    "import matplotlib.pyplot as plt\n",
    "import matplotlib.ticker as ticker\n",
    "import scipy.stats as st\n",
    "from IPython.display import display, Markdown\n",
    "from scipy.optimize import fsolve\n",
    "from sklearn.linear_model import LinearRegression\n",
    "\n",
    "from common_plotting import read_data, plot, years, months, yearsFmt, add_thp\n",
    "from common_analysis import analyse_grouped_ohms, PT385_eq, Trh, Rt, Rs23, add_dut_and_setting_group, interpolate_temp\n",
    "\n",
    "plt.rcParams[\"figure.figsize\"] = (20,10)\n",
    "orig_max_rows = pd.options.display.max_rows\n",
    "pd.options.display.max_rows = 100"
   ]
  },
  {
   "cell_type": "code",
   "execution_count": 14,
   "id": "3bf0c836",
   "metadata": {},
   "outputs": [],
   "source": [
    "thp_data, data = read_data(['ks3458a1-v2703-acv-sweep.csv', 'w4920-v2703-acv-sweep.csv', 'w4950-v2703-acv-sweep.csv'])\n",
    "ks3458a1_data = data['ks3458a1-v2703-acv-sweep.csv']\n",
    "w4920_data = data['w4920-v2703-acv-sweep.csv']\n",
    "w4950_data = data['w4950-v2703-acv-sweep.csv']"
   ]
  },
  {
   "cell_type": "code",
   "execution_count": 18,
   "id": "f6a7b5ae",
   "metadata": {},
   "outputs": [
    {
     "data": {
      "text/html": [
       "<div>\n",
       "<style scoped>\n",
       "    .dataframe tbody tr th:only-of-type {\n",
       "        vertical-align: middle;\n",
       "    }\n",
       "\n",
       "    .dataframe tbody tr th {\n",
       "        vertical-align: top;\n",
       "    }\n",
       "\n",
       "    .dataframe thead th {\n",
       "        text-align: right;\n",
       "    }\n",
       "</style>\n",
       "<table border=\"1\" class=\"dataframe\">\n",
       "  <thead>\n",
       "    <tr style=\"text-align: right;\">\n",
       "      <th></th>\n",
       "      <th>dut</th>\n",
       "      <th>dut_setting</th>\n",
       "      <th>ag3458a_1_value</th>\n",
       "      <th>temp_1</th>\n",
       "      <th>last_acal_1</th>\n",
       "      <th>last_acal_1_cal72</th>\n",
       "      <th>3458a_1_function</th>\n",
       "      <th>ag3458a_1_range</th>\n",
       "      <th>temperature</th>\n",
       "      <th>pressure</th>\n",
       "      <th>humidity</th>\n",
       "    </tr>\n",
       "    <tr>\n",
       "      <th>datetime</th>\n",
       "      <th></th>\n",
       "      <th></th>\n",
       "      <th></th>\n",
       "      <th></th>\n",
       "      <th></th>\n",
       "      <th></th>\n",
       "      <th></th>\n",
       "      <th></th>\n",
       "      <th></th>\n",
       "      <th></th>\n",
       "      <th></th>\n",
       "    </tr>\n",
       "  </thead>\n",
       "  <tbody>\n",
       "    <tr>\n",
       "      <th>2023-01-30 13:46:53.185467</th>\n",
       "      <td>F510</td>\n",
       "      <td>10 V 2.4 kHz</td>\n",
       "      <td>10.000502</td>\n",
       "      <td>NaN</td>\n",
       "      <td>2023-01-30T13:42:16.017174</td>\n",
       "      <td>1.00074439E+00</td>\n",
       "      <td>NaN</td>\n",
       "      <td>10.0</td>\n",
       "      <td>31.292578</td>\n",
       "      <td>1019.516204</td>\n",
       "      <td>23.519234</td>\n",
       "    </tr>\n",
       "    <tr>\n",
       "      <th>2023-01-30 13:47:05.698851</th>\n",
       "      <td>F510</td>\n",
       "      <td>10 V 2.4 kHz</td>\n",
       "      <td>10.000515</td>\n",
       "      <td>NaN</td>\n",
       "      <td>2023-01-30T13:42:16.017174</td>\n",
       "      <td>1.00074439E+00</td>\n",
       "      <td>NaN</td>\n",
       "      <td>10.0</td>\n",
       "      <td>31.296484</td>\n",
       "      <td>1019.592072</td>\n",
       "      <td>23.438497</td>\n",
       "    </tr>\n",
       "    <tr>\n",
       "      <th>2023-01-30 13:47:17.778968</th>\n",
       "      <td>F510</td>\n",
       "      <td>10 V 2.4 kHz</td>\n",
       "      <td>10.000484</td>\n",
       "      <td>NaN</td>\n",
       "      <td>2023-01-30T13:42:16.017174</td>\n",
       "      <td>1.00074439E+00</td>\n",
       "      <td>NaN</td>\n",
       "      <td>10.0</td>\n",
       "      <td>31.300000</td>\n",
       "      <td>1019.481944</td>\n",
       "      <td>23.380549</td>\n",
       "    </tr>\n",
       "    <tr>\n",
       "      <th>2023-01-30 13:47:29.862271</th>\n",
       "      <td>F510</td>\n",
       "      <td>10 V 2.4 kHz</td>\n",
       "      <td>10.000518</td>\n",
       "      <td>NaN</td>\n",
       "      <td>2023-01-30T13:42:16.017174</td>\n",
       "      <td>1.00074439E+00</td>\n",
       "      <td>NaN</td>\n",
       "      <td>10.0</td>\n",
       "      <td>31.304297</td>\n",
       "      <td>1019.463929</td>\n",
       "      <td>23.357456</td>\n",
       "    </tr>\n",
       "    <tr>\n",
       "      <th>2023-01-30 13:47:41.941299</th>\n",
       "      <td>F510</td>\n",
       "      <td>10 V 2.4 kHz</td>\n",
       "      <td>10.000465</td>\n",
       "      <td>NaN</td>\n",
       "      <td>2023-01-30T13:42:16.017174</td>\n",
       "      <td>1.00074439E+00</td>\n",
       "      <td>NaN</td>\n",
       "      <td>10.0</td>\n",
       "      <td>31.299219</td>\n",
       "      <td>1019.573425</td>\n",
       "      <td>23.374596</td>\n",
       "    </tr>\n",
       "    <tr>\n",
       "      <th>...</th>\n",
       "      <td>...</td>\n",
       "      <td>...</td>\n",
       "      <td>...</td>\n",
       "      <td>...</td>\n",
       "      <td>...</td>\n",
       "      <td>...</td>\n",
       "      <td>...</td>\n",
       "      <td>...</td>\n",
       "      <td>...</td>\n",
       "      <td>...</td>\n",
       "      <td>...</td>\n",
       "    </tr>\n",
       "    <tr>\n",
       "      <th>2023-02-01 00:13:26.272044</th>\n",
       "      <td>Valhalla 2703</td>\n",
       "      <td>1 A 10 kHz</td>\n",
       "      <td>1.008324</td>\n",
       "      <td>NaN</td>\n",
       "      <td>2023-01-31T21:25:58.803034</td>\n",
       "      <td>keep</td>\n",
       "      <td>NaN</td>\n",
       "      <td>1.0</td>\n",
       "      <td>30.629297</td>\n",
       "      <td>1020.458644</td>\n",
       "      <td>24.760341</td>\n",
       "    </tr>\n",
       "    <tr>\n",
       "      <th>2023-02-01 00:13:38.343629</th>\n",
       "      <td>Valhalla 2703</td>\n",
       "      <td>1 A 10 kHz</td>\n",
       "      <td>1.008337</td>\n",
       "      <td>NaN</td>\n",
       "      <td>2023-01-31T21:25:58.803034</td>\n",
       "      <td>keep</td>\n",
       "      <td>NaN</td>\n",
       "      <td>1.0</td>\n",
       "      <td>30.639258</td>\n",
       "      <td>1020.545724</td>\n",
       "      <td>24.679468</td>\n",
       "    </tr>\n",
       "    <tr>\n",
       "      <th>2023-02-01 00:13:50.425611</th>\n",
       "      <td>Valhalla 2703</td>\n",
       "      <td>1 A 10 kHz</td>\n",
       "      <td>1.008333</td>\n",
       "      <td>NaN</td>\n",
       "      <td>2023-01-31T21:25:58.803034</td>\n",
       "      <td>keep</td>\n",
       "      <td>NaN</td>\n",
       "      <td>1.0</td>\n",
       "      <td>30.638867</td>\n",
       "      <td>1020.532762</td>\n",
       "      <td>24.731225</td>\n",
       "    </tr>\n",
       "    <tr>\n",
       "      <th>2023-02-01 00:14:02.502629</th>\n",
       "      <td>Valhalla 2703</td>\n",
       "      <td>1 A 10 kHz</td>\n",
       "      <td>1.008321</td>\n",
       "      <td>NaN</td>\n",
       "      <td>2023-01-31T21:25:58.803034</td>\n",
       "      <td>keep</td>\n",
       "      <td>NaN</td>\n",
       "      <td>1.0</td>\n",
       "      <td>30.646875</td>\n",
       "      <td>1020.511791</td>\n",
       "      <td>24.742461</td>\n",
       "    </tr>\n",
       "    <tr>\n",
       "      <th>2023-02-01 00:14:14.579522</th>\n",
       "      <td>Valhalla 2703</td>\n",
       "      <td>1 A 10 kHz</td>\n",
       "      <td>1.008326</td>\n",
       "      <td>NaN</td>\n",
       "      <td>2023-01-31T21:25:58.803034</td>\n",
       "      <td>keep</td>\n",
       "      <td>NaN</td>\n",
       "      <td>1.0</td>\n",
       "      <td>30.658984</td>\n",
       "      <td>1020.490149</td>\n",
       "      <td>24.724706</td>\n",
       "    </tr>\n",
       "  </tbody>\n",
       "</table>\n",
       "<p>2196 rows × 11 columns</p>\n",
       "</div>"
      ],
      "text/plain": [
       "                                      dut   dut_setting  ag3458a_1_value  \\\n",
       "datetime                                                                   \n",
       "2023-01-30 13:46:53.185467           F510  10 V 2.4 kHz        10.000502   \n",
       "2023-01-30 13:47:05.698851           F510  10 V 2.4 kHz        10.000515   \n",
       "2023-01-30 13:47:17.778968           F510  10 V 2.4 kHz        10.000484   \n",
       "2023-01-30 13:47:29.862271           F510  10 V 2.4 kHz        10.000518   \n",
       "2023-01-30 13:47:41.941299           F510  10 V 2.4 kHz        10.000465   \n",
       "...                                   ...           ...              ...   \n",
       "2023-02-01 00:13:26.272044  Valhalla 2703    1 A 10 kHz         1.008324   \n",
       "2023-02-01 00:13:38.343629  Valhalla 2703    1 A 10 kHz         1.008337   \n",
       "2023-02-01 00:13:50.425611  Valhalla 2703    1 A 10 kHz         1.008333   \n",
       "2023-02-01 00:14:02.502629  Valhalla 2703    1 A 10 kHz         1.008321   \n",
       "2023-02-01 00:14:14.579522  Valhalla 2703    1 A 10 kHz         1.008326   \n",
       "\n",
       "                            temp_1                 last_acal_1  \\\n",
       "datetime                                                         \n",
       "2023-01-30 13:46:53.185467     NaN  2023-01-30T13:42:16.017174   \n",
       "2023-01-30 13:47:05.698851     NaN  2023-01-30T13:42:16.017174   \n",
       "2023-01-30 13:47:17.778968     NaN  2023-01-30T13:42:16.017174   \n",
       "2023-01-30 13:47:29.862271     NaN  2023-01-30T13:42:16.017174   \n",
       "2023-01-30 13:47:41.941299     NaN  2023-01-30T13:42:16.017174   \n",
       "...                            ...                         ...   \n",
       "2023-02-01 00:13:26.272044     NaN  2023-01-31T21:25:58.803034   \n",
       "2023-02-01 00:13:38.343629     NaN  2023-01-31T21:25:58.803034   \n",
       "2023-02-01 00:13:50.425611     NaN  2023-01-31T21:25:58.803034   \n",
       "2023-02-01 00:14:02.502629     NaN  2023-01-31T21:25:58.803034   \n",
       "2023-02-01 00:14:14.579522     NaN  2023-01-31T21:25:58.803034   \n",
       "\n",
       "                           last_acal_1_cal72  3458a_1_function  \\\n",
       "datetime                                                         \n",
       "2023-01-30 13:46:53.185467    1.00074439E+00               NaN   \n",
       "2023-01-30 13:47:05.698851    1.00074439E+00               NaN   \n",
       "2023-01-30 13:47:17.778968    1.00074439E+00               NaN   \n",
       "2023-01-30 13:47:29.862271    1.00074439E+00               NaN   \n",
       "2023-01-30 13:47:41.941299    1.00074439E+00               NaN   \n",
       "...                                      ...               ...   \n",
       "2023-02-01 00:13:26.272044              keep               NaN   \n",
       "2023-02-01 00:13:38.343629              keep               NaN   \n",
       "2023-02-01 00:13:50.425611              keep               NaN   \n",
       "2023-02-01 00:14:02.502629              keep               NaN   \n",
       "2023-02-01 00:14:14.579522              keep               NaN   \n",
       "\n",
       "                            ag3458a_1_range  temperature     pressure  \\\n",
       "datetime                                                                \n",
       "2023-01-30 13:46:53.185467             10.0    31.292578  1019.516204   \n",
       "2023-01-30 13:47:05.698851             10.0    31.296484  1019.592072   \n",
       "2023-01-30 13:47:17.778968             10.0    31.300000  1019.481944   \n",
       "2023-01-30 13:47:29.862271             10.0    31.304297  1019.463929   \n",
       "2023-01-30 13:47:41.941299             10.0    31.299219  1019.573425   \n",
       "...                                     ...          ...          ...   \n",
       "2023-02-01 00:13:26.272044              1.0    30.629297  1020.458644   \n",
       "2023-02-01 00:13:38.343629              1.0    30.639258  1020.545724   \n",
       "2023-02-01 00:13:50.425611              1.0    30.638867  1020.532762   \n",
       "2023-02-01 00:14:02.502629              1.0    30.646875  1020.511791   \n",
       "2023-02-01 00:14:14.579522              1.0    30.658984  1020.490149   \n",
       "\n",
       "                             humidity  \n",
       "datetime                               \n",
       "2023-01-30 13:46:53.185467  23.519234  \n",
       "2023-01-30 13:47:05.698851  23.438497  \n",
       "2023-01-30 13:47:17.778968  23.380549  \n",
       "2023-01-30 13:47:29.862271  23.357456  \n",
       "2023-01-30 13:47:41.941299  23.374596  \n",
       "...                               ...  \n",
       "2023-02-01 00:13:26.272044  24.760341  \n",
       "2023-02-01 00:13:38.343629  24.679468  \n",
       "2023-02-01 00:13:50.425611  24.731225  \n",
       "2023-02-01 00:14:02.502629  24.742461  \n",
       "2023-02-01 00:14:14.579522  24.724706  \n",
       "\n",
       "[2196 rows x 11 columns]"
      ]
     },
     "execution_count": 18,
     "metadata": {},
     "output_type": "execute_result"
    }
   ],
   "source": [
    "ks3458a1_data"
   ]
  },
  {
   "cell_type": "code",
   "execution_count": 36,
   "id": "754a305d",
   "metadata": {},
   "outputs": [
    {
     "name": "stdout",
     "output_type": "stream",
     "text": [
      "count    2059.000000\n",
      "mean       12.081362\n",
      "std         0.019352\n",
      "min        12.063212\n",
      "25%        12.078985\n",
      "50%        12.079873\n",
      "75%        12.081756\n",
      "max        12.618887\n",
      "Name: datetime, dtype: float64\n"
     ]
    },
    {
     "data": {
      "text/plain": [
       "<AxesSubplot:>"
      ]
     },
     "execution_count": 36,
     "metadata": {},
     "output_type": "execute_result"
    },
    {
     "data": {
      "image/png": "[encoded data removed]",
      "text/plain": [
       "<Figure size 1440x720 with 1 Axes>"
      ]
     },
     "metadata": {
      "needs_background": "light"
     },
     "output_type": "display_data"
    }
   ],
   "source": [
    "ks3458a_times = ks3458a1_data.index.to_series().diff().dt.total_seconds()\n",
    "ks3458a_times = ks3458a_times[ks3458a_times < 15]\n",
    "print(ks3458a_times.describe())\n",
    "ks3458a_times.hist(bins=1000)"
   ]
  },
  {
   "cell_type": "code",
   "execution_count": 38,
   "id": "194d9fe3",
   "metadata": {},
   "outputs": [
    {
     "name": "stdout",
     "output_type": "stream",
     "text": [
      "count    1848.000000\n",
      "mean        7.943800\n",
      "std         3.982104\n",
      "min         2.715736\n",
      "25%         4.434542\n",
      "50%         6.640016\n",
      "75%         8.853051\n",
      "max        19.100210\n",
      "Name: datetime, dtype: float64\n"
     ]
    },
    {
     "data": {
      "text/plain": [
       "<AxesSubplot:>"
      ]
     },
     "execution_count": 38,
     "metadata": {},
     "output_type": "execute_result"
    },
    {
     "data": {
      "image/png": "[encoded data removed]",
      "text/plain": [
       "<Figure size 1440x720 with 1 Axes>"
      ]
     },
     "metadata": {
      "needs_background": "light"
     },
     "output_type": "display_data"
    }
   ],
   "source": [
    "w4920_times = w4920_data.index.to_series().diff().dt.total_seconds()\n",
    "w4920_times = w4920_times[w4920_times < 60]\n",
    "print(w4920_times.describe())\n",
    "w4920_times.hist(bins=100)"
   ]
  },
  {
   "cell_type": "code",
   "execution_count": 39,
   "id": "9ecc085c",
   "metadata": {},
   "outputs": [
    {
     "name": "stdout",
     "output_type": "stream",
     "text": [
      "count    793.000000\n",
      "mean      30.206350\n",
      "std        9.365174\n",
      "min        4.088641\n",
      "25%       27.442733\n",
      "50%       27.473331\n",
      "75%       40.204909\n",
      "max       44.450810\n",
      "Name: datetime, dtype: float64\n"
     ]
    },
    {
     "data": {
      "text/plain": [
       "<AxesSubplot:>"
      ]
     },
     "execution_count": 39,
     "metadata": {},
     "output_type": "execute_result"
    },
    {
     "data": {
      "image/png": "[encoded data removed]",
      "text/plain": [
       "<Figure size 1440x720 with 1 Axes>"
      ]
     },
     "metadata": {
      "needs_background": "light"
     },
     "output_type": "display_data"
    }
   ],
   "source": [
    "w4950_times = w4950_data.index.to_series().diff().dt.total_seconds()\n",
    "w4950_times = w4950_times[w4950_times < 60]\n",
    "print(w4950_times.describe())\n",
    "w4950_times.hist(bins=100)"
   ]
  },
  {
   "cell_type": "code",
   "execution_count": null,
   "id": "898f5edc",
   "metadata": {},
   "outputs": [],
   "source": []
  }
 ],
 "metadata": {
  "kernelspec": {
   "display_name": "Python 3 (ipykernel)",
   "language": "python",
   "name": "python3"
  },
  "language_info": {
   "codemirror_mode": {
    "name": "ipython",
    "version": 3
   },
   "file_extension": ".py",
   "mimetype": "text/x-python",
   "name": "python",
   "nbconvert_exporter": "python",
   "pygments_lexer": "ipython3",
   "version": "3.10.6"
  },
  "toc": {
   "base_numbering": 1,
   "nav_menu": {},
   "number_sections": true,
   "sideBar": true,
   "skip_h1_title": false,
   "title_cell": "Table of Contents",
   "title_sidebar": "Contents",
   "toc_cell": false,
   "toc_position": {},
   "toc_section_display": true,
   "toc_window_display": false
  }
 },
 "nbformat": 4,
 "nbformat_minor": 5
}
